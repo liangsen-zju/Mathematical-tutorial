{
 "nbformat": 4,
 "nbformat_minor": 2,
 "metadata": {
  "language_info": {
   "name": "python",
   "codemirror_mode": {
    "name": "ipython",
    "version": 3
   },
   "version": "3.6.3"
  },
  "orig_nbformat": 2,
  "file_extension": ".py",
  "mimetype": "text/x-python",
  "name": "python",
  "npconvert_exporter": "python",
  "pygments_lexer": "ipython3",
  "version": 3
 },
 "cells": [
  {
   "cell_type": "markdown",
   "execution_count": null,
   "metadata": {},
   "outputs": [],
   "source": [
    "# Numpy Dot && matmul"
   ]
  },
  {
   "cell_type": "code",
   "execution_count": 1,
   "metadata": {},
   "outputs": [],
   "source": [
    "import numpy as np"
   ]
  },
  {
   "cell_type": "markdown",
   "execution_count": null,
   "metadata": {},
   "outputs": [],
   "source": [
    "## Dot product\n",
    "`numpy.dot(a, b, out=None`\n",
    "- if a and b are 1-D array, it is inner product of vectors\n",
    "$$dot(a,b) = \\sum_{i=0}^n(a[i] * b[i])$$ \n",
    "- if a and b are 2-D array, it is matrix multiplication, but using `matmul` or `a @ b` is perferred\n",
    "$$dot(a,b)[i,j]= matmul(a,b) = a@b = \\sum_{k=0}^n(a[i,k] * b[k,j])$$\n",
    "- if either a or b is scalar, it is multiply, but using `multiply(a,b)` or `a * b` is perferred\n",
    "\n",
    "- if a is N-D array and b is 1-D array, it is a sum product over the last axis of a and b\n",
    "$$dot(a,b)[i,j] = \\sum_{k=0}^n(a[i, j, k] * b[k])$$ \n",
    "$$要求a的最后一维，和b的长度，是一致$$\n",
    "\n",
    "- if a is N-D array and b is M-D array, it is a sum product over the last axis of a and the second-to-last axis of b\n",
    "$$dot(a,b)[i, j, k, m] = sum(a[i,j, :] * b[k, :, m])$$\n",
    "$$要求a的最后一维的维度，和b的倒数第二维的维度，是一致$$"
   ]
  },
  {
   "cell_type": "code",
   "execution_count": 2,
   "metadata": {},
   "outputs": [
    {
     "data": {
      "text/plain": "9"
     },
     "execution_count": 2,
     "metadata": {},
     "output_type": "execute_result"
    }
   ],
   "source": [
    "# if a and b are 1-D array, it is inner product of vectors\n",
    "a = np.array([1, 1, 1])\n",
    "b = np.array([2, 3, 4])\n",
    "\n",
    "np.dot(a,b)"
   ]
  },
  {
   "cell_type": "code",
   "execution_count": 5,
   "metadata": {},
   "outputs": [
    {
     "name": "stdout",
     "output_type": "stream",
     "text": "[[4 1]\n [2 2]]\n[[4 1]\n [2 2]]\n[[4 1]\n [2 2]]\n"
    }
   ],
   "source": [
    "# if a and b are 2-D array, it is matrix multiplication, but using matmul or a @ b is perferred\n",
    "a = np.array([[1, 0], [0, 1]])\n",
    "b = np.array([[4, 1], [2, 2]])\n",
    "\n",
    "print(np.dot(a,b))\n",
    "print(np.matmul(a,b))\n",
    "print(a @ b)"
   ]
  },
  {
   "cell_type": "code",
   "execution_count": 11,
   "metadata": {},
   "outputs": [
    {
     "name": "stdout",
     "output_type": "stream",
     "text": "[[[ 1  2  3]\n  [ 4  5  6]]\n\n [[ 7  8  9]\n  [10 11 12]]] \n\n [1 1 1]\n\n np.dot(a,b)=\n [[ 6 15]\n [24 33]]\n"
    }
   ],
   "source": [
    "# if a is N-D array and b is 1-D array, it is a sum product over the last axis of a and b\n",
    "a = np.array([1,2,3,4,5,6,7,8,9,10,11,12]).reshape(2,2,3)\n",
    "b = np.array([1, 1, 1])\n",
    "print(a, '\\n\\n', b)\n",
    "print('\\n np.dot(a,b)=\\n', np.dot(a, b))"
   ]
  },
  {
   "cell_type": "code",
   "execution_count": 12,
   "metadata": {},
   "outputs": [
    {
     "name": "stdout",
     "output_type": "stream",
     "text": "(3, 4, 5, 5, 4, 3)\n"
    }
   ],
   "source": [
    "# if a is N-D array and b is M-D array, it is a sum product over the last axis of a and the second-to-last axis of b\n",
    "a = np.arange(3*4*5*6).reshape((3,4,5,6))\n",
    "b = np.arange(3*4*5*6)[::-1].reshape(5,4,6,3)\n",
    "\n",
    "ab = np.dot(a,b)\n",
    "\n",
    "print(ab.shape)"
   ]
  },
  {
   "cell_type": "code",
   "execution_count": 16,
   "metadata": {},
   "outputs": [
    {
     "name": "stdout",
     "output_type": "stream",
     "text": "499128\n499128\n"
    }
   ],
   "source": [
    "print(ab[2,3,2, 1, 2,2])\n",
    "print(sum(a[2,3,2,:] * b[1, 2, :, 2]))"
   ]
  },
  {
   "cell_type": "markdown",
   "execution_count": null,
   "metadata": {},
   "outputs": [],
   "source": [
    "## Multiply Product, (Element-wise)\n",
    "`numpy.multiply(X1, X2, out=None, where=True, casting='same_kind'`\n",
    "- X1, X2, array_like, if X1.shape != X2.shape, they must be broadcastable to a common shape \n",
    "- The product of X1 and X2, element-wise, This is a scalar if both X1 and X2 are scalar"
   ]
  },
  {
   "cell_type": "code",
   "execution_count": 17,
   "metadata": {},
   "outputs": [
    {
     "data": {
      "text/plain": "array([ 8, 15])"
     },
     "execution_count": 17,
     "metadata": {},
     "output_type": "execute_result"
    }
   ],
   "source": [
    "X1 = np.array([2, 3])\n",
    "X2 = np.array([4, 5])\n",
    "np.multiply(X1, X2)"
   ]
  },
  {
   "cell_type": "code",
   "execution_count": 19,
   "metadata": {},
   "outputs": [
    {
     "name": "stdout",
     "output_type": "stream",
     "text": "X1= [[0 1 2]\n [3 4 5]\n [6 7 8]] \nX2= [0 1 2]\n"
    },
    {
     "data": {
      "text/plain": "array([[ 0,  1,  4],\n       [ 0,  4, 10],\n       [ 0,  7, 16]])"
     },
     "execution_count": 19,
     "metadata": {},
     "output_type": "execute_result"
    }
   ],
   "source": [
    "X1 = np.arange(9).reshape(3,3)\n",
    "X2 = np.arange(3)\n",
    "\n",
    "print(\"X1=\",X1, \"\\nX2=\",X2)\n",
    "\n",
    "np.multiply(X1, X2)"
   ]
  },
  {
   "cell_type": "code",
   "execution_count": null,
   "metadata": {},
   "outputs": [],
   "source": [
    "X1 = np.arange(9).reshape(3,3)\n",
    "X2 = np.arange(3)\n",
    "\n",
    "print(\"X1=\",X1, \"\\nX2=\",X2)\n",
    "\n",
    "np.multiply(X1, X2)"
   ]
  },
  {
   "cell_type": "markdown",
   "execution_count": null,
   "metadata": {},
   "outputs": [],
   "source": [
    "## Matrix Multipy\n",
    "`numpy.matmul(x1, x2, casting='same_kind`, order='k')`\n",
    "- The matrix product of the inputs, This is scalar only when both X1, X2 are 1-d vectors\n",
    "- if x1 and x2 are 2-D array, it is conventional matrices\n",
    "- if either x1 or x2 is N-D array(N>2), it is treated as a stack of matrices residing in the last two indexes and broadcast according\n",
    "```\n",
    "# 所以要求X1最后两维能够和X2的最后两维进行矩阵乘法，同时保证其它的维度可以进行广播\n",
    "# (9,5,7,4) -> (9,5,7,4) \n",
    "# (9,5,4,3) -> (9,5,4,3)\n",
    "```\n",
    "- if either x1 or x2 is 1-D array, it is promoted to a matrix by appending a 1 to its dimensions, After matrix multiplication the appended 1 is removed"
   ]
  },
  {
   "cell_type": "code",
   "execution_count": 20,
   "metadata": {},
   "outputs": [
    {
     "data": {
      "text/plain": "array([[4, 1],\n       [2, 2]])"
     },
     "execution_count": 20,
     "metadata": {},
     "output_type": "execute_result"
    }
   ],
   "source": [
    "# if x1 and x2 are 2-D array, it is conventional matrices\n",
    "a = np.array([[1, 0], [0, 1]])\n",
    "b = np.array([[4, 1], [2, 2]])\n",
    "\n",
    "np.matmul(a,b)\n"
   ]
  },
  {
   "cell_type": "code",
   "execution_count": 21,
   "metadata": {},
   "outputs": [
    {
     "name": "stdout",
     "output_type": "stream",
     "text": "[1 2]\n[1 2]\n"
    }
   ],
   "source": [
    "# if either x1 or x2 is 1-D array, it is promoted to a matrix by appending a 1 to its dimensions, After matrix multiplication the appended 1 is removed\n",
    "a = np.array([[1, 0], [0, 1]])\n",
    "b = np.array([1, 2])\n",
    "\n",
    "print(np.matmul(a, b))\n",
    "print(np.matmul(b, a))"
   ]
  },
  {
   "cell_type": "code",
   "execution_count": 24,
   "metadata": {},
   "outputs": [
    {
     "name": "stdout",
     "output_type": "stream",
     "text": "abdot.shape= (9, 5, 7, 8, 6, 3)\n"
    },
    {
     "ename": "ValueError",
     "evalue": "operands could not be broadcast together with remapped shapes [original->remapped]: (9,5,7,4)->(9,5,7,newaxis,4) (8,6,4,3)->(8,6,newaxis,3,4) ",
     "output_type": "error",
     "traceback": [
      "\u001b[0;31m---------------------------------------------------------------------------\u001b[0m",
      "\u001b[0;31mValueError\u001b[0m                                Traceback (most recent call last)",
      "\u001b[0;32m<ipython-input-24-c31786890b01>\u001b[0m in \u001b[0;36m<module>\u001b[0;34m\u001b[0m\n\u001b[1;32m      6\u001b[0m \u001b[0mprint\u001b[0m\u001b[0;34m(\u001b[0m\u001b[0;34m'abdot.shape='\u001b[0m\u001b[0;34m,\u001b[0m \u001b[0mabdot\u001b[0m\u001b[0;34m.\u001b[0m\u001b[0mshape\u001b[0m\u001b[0;34m)\u001b[0m\u001b[0;34m\u001b[0m\u001b[0m\n\u001b[1;32m      7\u001b[0m \u001b[0;34m\u001b[0m\u001b[0m\n\u001b[0;32m----> 8\u001b[0;31m \u001b[0mabmat\u001b[0m \u001b[0;34m=\u001b[0m \u001b[0mnp\u001b[0m\u001b[0;34m.\u001b[0m\u001b[0mmatmul\u001b[0m\u001b[0;34m(\u001b[0m\u001b[0ma\u001b[0m\u001b[0;34m,\u001b[0m\u001b[0mb\u001b[0m\u001b[0;34m)\u001b[0m\u001b[0;34m\u001b[0m\u001b[0m\n\u001b[0m\u001b[1;32m      9\u001b[0m \u001b[0mprint\u001b[0m\u001b[0;34m(\u001b[0m\u001b[0;34m'abmat.shape='\u001b[0m\u001b[0;34m,\u001b[0m \u001b[0mabmat\u001b[0m\u001b[0;34m.\u001b[0m\u001b[0mshape\u001b[0m\u001b[0;34m)\u001b[0m\u001b[0;34m\u001b[0m\u001b[0m\n",
      "\u001b[0;31mValueError\u001b[0m: operands could not be broadcast together with remapped shapes [original->remapped]: (9,5,7,4)->(9,5,7,newaxis,4) (8,6,4,3)->(8,6,newaxis,3,4) "
     ]
    }
   ],
   "source": [
    "# if either x1 or x2 is N-D array(N>2), it is treated as a stack of matrices residing in the last two indexes and broadcast according\n",
    "a = np.arange(9*5*7*4).reshape((9,5,7,4))\n",
    "b = np.arange(8*6*4*3).reshape((8,6,4,3))\n",
    "\n",
    "abdot = np.dot(a,b)\n",
    "print('abdot.shape=', abdot.shape)\n",
    "\n",
    "abmat = np.matmul(a,b)\n",
    "print('abmat.shape=', abmat.shape)"
   ]
  },
  {
   "cell_type": "code",
   "execution_count": 28,
   "metadata": {},
   "outputs": [
    {
     "name": "stdout",
     "output_type": "stream",
     "text": "abdot.shape= (8, 9, 5, 7, 9, 5, 3)\nabmat.shape= (8, 9, 5, 7, 3)\n"
    }
   ],
   "source": [
    "a = np.arange(8*9*5*7*4).reshape((8,9,5,7,4))\n",
    "b = np.arange(9*5*4*3).reshape((9,5,4,3))\n",
    "\n",
    "abdot = np.dot(a,b)\n",
    "print('abdot.shape=', abdot.shape)\n",
    "\n",
    "# 所以要求X1最后两维能够和X2的最后两维进行矩阵乘法，同时保证其它的维度可以进行广播\n",
    "# (9,5,7,4) -> (9,5,7,4) \n",
    "# (9,5,4,3) -> (9,5,4,3)\n",
    "abmat = np.matmul(a,b)\n",
    "print('abmat.shape=', abmat.shape)\n",
    "# "
   ]
  },
  {
   "cell_type": "code",
   "execution_count": null,
   "metadata": {},
   "outputs": [],
   "source": []
  },
  {
   "cell_type": "code",
   "execution_count": null,
   "metadata": {},
   "outputs": [],
   "source": []
  },
  {
   "cell_type": "code",
   "execution_count": null,
   "metadata": {},
   "outputs": [],
   "source": []
  },
  {
   "cell_type": "code",
   "execution_count": null,
   "metadata": {},
   "outputs": [],
   "source": []
  },
  {
   "cell_type": "code",
   "execution_count": null,
   "metadata": {},
   "outputs": [],
   "source": []
  }
 ]
}