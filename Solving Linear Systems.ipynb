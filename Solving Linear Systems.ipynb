{
 "nbformat": 4,
 "nbformat_minor": 2,
 "metadata": {
  "language_info": {
   "name": "python",
   "codemirror_mode": {
    "name": "ipython",
    "version": 3
   },
   "version": "3.6.3"
  },
  "orig_nbformat": 2,
  "file_extension": ".py",
  "mimetype": "text/x-python",
  "name": "python",
  "npconvert_exporter": "python",
  "pygments_lexer": "ipython3",
  "version": 3
 },
 "cells": [
  {
   "cell_type": "markdown",
   "execution_count": null,
   "metadata": {},
   "outputs": [],
   "source": [
    "# Solving Linear Systems\n",
    "\n",
    "## Linear algebra（numpy.linalg）\n",
    "The NumPy linear algebra function rely on BLAS and LAPACK to provide efficient low level implementations of standard linear algebra algorithms. Those libraries may be provided by NumPy itself using C versions of a subset of their reference implementations.\n",
    "\n",
    "### Matrix and vector products\n",
    "- dot(a, b)\n",
    "- linalg.multi_dot\n",
    "- vdot(a, b)\n",
    "- inner(a, b)\n",
    "- matmul(x1, x2)\n",
    "- tensordot(a, b)\n",
    "\n",
    "## Decompositions\n",
    "- linalg.cholesky(a)     Cholesky Decompositions\n",
    "- linalg.qr(a)           Compute the qr factorization of a matrix \n",
    "- linalg.svd(a)          Sigular Value Decomposition \n",
    "\n",
    "## Matrix eigenvalues\n",
    "- linalg.eig(a)          Compute the eigenvalues and right eigenvectors of a square array\n",
    "- linalg.eigh(a)         Compute the eigenvalues and eigenvectors of a complex Hermitian or a real symmetrix matrix \n",
    "- linalg.eigvals(a)      Compute the eigenvalues of a general matrix \n",
    "- linalg.eigvalsh(a)     Compute the eigenvaluse of a complex Hermitian or real symmetric matrix \n",
    "\n",
    "## Norms and other numbers\n",
    "- linalg.norm(x)         matrix or vector norm\n",
    "- linalg.cond(x)         conditional number of a matrix \n",
    "- linalg.det(a)          determinant of a array\n",
    "- linalg.matrix_rank(x)  matrix rank of array using SVD method\n",
    "- linalg.slogdet(a)      \n",
    "- trace(a)\n",
    "\n",
    "## Sovling equations and inverting matrice\n",
    "- linalg.solve(a, b)     solve a linear matrix equation \n",
    "- linalg.tensorsolve(a, b) solve the tensor equation `ax=b` for x\n",
    "- linalg.lstsq(a, b)     the least-squares solution to a linear matrix equation\n",
    "- linalg.inv(a)          inverse of a matrix \n",
    "- linalg.pinv(a)\n",
    "- linalg.tensorinv(a)"
   ]
  },
  {
   "cell_type": "code",
   "execution_count": 1,
   "metadata": {},
   "outputs": [],
   "source": [
    "import numpy as np\n",
    "import matplotlib.pyplot as plt\n",
    "import scipy.linalg as la\n",
    "\n",
    "%matplotlib inline"
   ]
  },
  {
   "cell_type": "markdown",
   "execution_count": null,
   "metadata": {},
   "outputs": [],
   "source": [
    "## Linear Systems\n",
    "- A linear system of equations is a collectiion of linear equations\n",
    "https://www.math.ubc.ca/~pwalls/math-python/linear-algebra/solving-linear-systems/\n",
    "\n",
    "\n",
    "$$\n",
    "\\begin{align}\n",
    "a_{0,0}x_0 + a_{0,1}x_1 + \\cdots + a_{0,n}x_n  = b_0  \\\\\n",
    "a_{1,0}x_0 + a_{1,1}x_1 + \\cdots + a_{1,n}x_n  = b_1  \\\\ \n",
    "\\vdots  \\\\ \n",
    "a_{m,0}x_0 + a_{m,1}x_1 + \\cdots + a_{m,n}x_n  = b_m  \\\\ \n",
    "\\end{align}\n",
    "$$\n",
    "\n",
    "In matrix notation, a linear system is $$Ax = b$$ where\n",
    "$$\n",
    "A = \\begin{pmatrix}\n",
    "a_{0,0} & a_{0,1} &  \\cdots & a_{0,n} \\\\\n",
    "a_{1,0} & a_{1,1} &  \\cdots & a_{1,n} \\\\ \n",
    "\\vdots  & \\vdots  &  \\vdots & \\vdots  \\\\ \n",
    "a_{m,0} & a_{m,1} &  \\cdots & a_{m,n} \\\\ \n",
    "\\end{pmatrix},\n",
    "\n",
    "x = \\begin{pmatrix} x_0 \\\\ x_1 \\\\ \\vdots \\\\ x_n  \\end{pmatrix},\n",
    "b = \\begin{pmatrix} b_0 \\\\ b_1 \\\\ \\vdots \\\\ b_m  \\end{pmatrix},\n",
    "$$\n",
    "\n",
    "for example:\n",
    "$$\n",
    "A = \\begin{pmatrix} 6 & 15 & 1 \\\\ 8 & 7 & 12 \\\\ 2 & 7 & 8 \\end{pmatrix}, \n",
    "b = \\begin{pmatrix} 2 \\\\ 14 \\\\ 10 \\end{pmatrix}\n",
    "$$\n",
    "\n",
    "$$Ax=b$$   $$x=A^{-1}b$$\n"
   ]
  },
  {
   "cell_type": "code",
   "execution_count": 6,
   "metadata": {},
   "outputs": [
    {
     "name": "stdout",
     "output_type": "stream",
     "text": "[[ 6 15  1]\n [ 8  7 12]\n [ 2  7  8]] \n\n [[ 2]\n [14]\n [10]]\n"
    }
   ],
   "source": [
    "A = np.array([[6, 15, 1], [8, 7, 12], [2, 7, 8]])\n",
    "b = np.array([[2], [14], [10]])\n",
    "\n",
    "print(A, '\\n\\n', b)"
   ]
  },
  {
   "cell_type": "code",
   "execution_count": 8,
   "metadata": {},
   "outputs": [
    {
     "name": "stdout",
     "output_type": "stream",
     "text": "AT= [[ 0.03856749  0.15564738 -0.23829201]\n [ 0.05509642 -0.06336088  0.08815427]\n [-0.05785124  0.01652893  0.10743802]]\nx= [[-0.12672176]\n [ 0.1046832 ]\n [ 1.19008264]]\n"
    }
   ],
   "source": [
    "# solution 1 \n",
    "AT = np.linalg.inv(A)\n",
    "print('AT=', AT)\n",
    "\n",
    "x = np.matmul(AT, b)\n",
    "print('x=', x)\n"
   ]
  },
  {
   "cell_type": "code",
   "execution_count": 9,
   "metadata": {},
   "outputs": [
    {
     "name": "stdout",
     "output_type": "stream",
     "text": "x= [[-0.12672176]\n [ 0.1046832 ]\n [ 1.19008264]]\n"
    }
   ],
   "source": [
    "# solution 2 \n",
    "x = np.linalg.solve(A, b)\n",
    "print('x=', x)"
   ]
  },
  {
   "cell_type": "markdown",
   "execution_count": null,
   "metadata": {},
   "outputs": [],
   "source": [
    "\n",
    "## Inverse or Solve\n",
    "- It's a bad idea to use the inverse $A^{-1}$ to solve $A \\mathbf{x} = \\mathbf{b}$ if $A$ is large. \n",
    "- It's too computationally expensive. \n",
    "- Let's create a large random matrix $A$ and vector $\\mathbf{b}$ and compute the solution $\\mathbf{x}$ in 2 ways:"
   ]
  },
  {
   "cell_type": "code",
   "execution_count": 10,
   "metadata": {},
   "outputs": [],
   "source": [
    "\n",
    "N = 1000\n",
    "A = np.random.rand(N,N)\n",
    "b = np.random.rand(N,1)"
   ]
  },
  {
   "cell_type": "code",
   "execution_count": 11,
   "metadata": {},
   "outputs": [
    {
     "name": "stdout",
     "output_type": "stream",
     "text": "30.8 ms ± 9.28 ms per loop (mean ± std. dev. of 7 runs, 10 loops each)\n"
    }
   ],
   "source": [
    "\n",
    "%%timeit\n",
    "x = np.linalg.solve(A,b)"
   ]
  },
  {
   "cell_type": "code",
   "execution_count": 12,
   "metadata": {},
   "outputs": [
    {
     "name": "stdout",
     "output_type": "stream",
     "text": "107 ms ± 23.4 ms per loop (mean ± std. dev. of 7 runs, 10 loops each)\n"
    }
   ],
   "source": [
    "%%timeit\n",
    "x = np.linalg.inv(A) @ b"
   ]
  },
  {
   "cell_type": "code",
   "execution_count": null,
   "metadata": {},
   "outputs": [],
   "source": []
  }
 ]
}